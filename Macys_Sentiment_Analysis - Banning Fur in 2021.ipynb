{
 "cells": [
  {
   "cell_type": "markdown",
   "metadata": {},
   "source": [
    " # <center> Twitter Sentiment Analysis on Macys Banning Fur in 2021 </center>\n",
    "    \n",
    "<B>Topline:</B> On October 22, 2019 Macy’s announced that it will completely phase out the sale of animal fur from its stores by early 2021, making it the biggest U.S. retailer to ban the controversial product.\n",
    "\n",
    "Below is the sentiment analysis on the tweets made on Macy's ban of fur.\n"
   ]
  },
  {
   "cell_type": "markdown",
   "metadata": {},
   "source": [
    "#### Import the libraries\n",
    "\n",
    "Import the libraries to autheticate and stream the tweets on real time using Twitter API and store it in the dataframe for further analysis.\n",
    "\n",
    "The twitter_credentials.py file has the CONSUMER and ACCESS_TOKENS for the twitter app to stream the data."
   ]
  },
  {
   "cell_type": "code",
   "execution_count": 79,
   "metadata": {},
   "outputs": [],
   "source": [
    "# Class that allows to listen to the tweets\n",
    "from tweepy.streaming import StreamListener\n",
    "\n",
    "# Responsible for authenticating\n",
    "from tweepy import OAuthHandler\n",
    "\n",
    "from tweepy import Stream\n",
    "\n",
    "# File with twitter credentitals\n",
    "import twitter_credentials as tc\n",
    "\n",
    "from tweepy import API\n",
    "from tweepy import Cursor\n",
    "\n",
    "import pandas as pd\n",
    "import numpy as np\n",
    "\n",
    "import matplotlib.pyplot as plt\n",
    "\n",
    "import re\n",
    "from textblob import TextBlob\n",
    "\n",
    "from datetime import datetime"
   ]
  },
  {
   "cell_type": "markdown",
   "metadata": {},
   "source": [
    "#### Create the class and method to authenticate the twitter app"
   ]
  },
  {
   "cell_type": "code",
   "execution_count": 9,
   "metadata": {},
   "outputs": [],
   "source": [
    "\n",
    "class TwitterAuthenticator():\n",
    "    \"\"\"\n",
    "    Twitter Authenticator\n",
    "    \"\"\"\n",
    "    def authenticate_twitter_app(self):\n",
    "        # Authenticate with CONSUMER cretentials\n",
    "        auth = OAuthHandler(tc.CONSUMER_KEY, tc.CONSUMER_SECRET_KEY)\n",
    "        auth.set_access_token(tc.ACCESS_TOKEN, tc.ACCESS_TOKEN_SECRET)\n",
    "        return auth\n",
    "        "
   ]
  },
  {
   "cell_type": "markdown",
   "metadata": {},
   "source": [
    "#### Class and methods to extract the twitter data into a dataframe\n",
    "\n",
    "- <i> tweets_to_data_frame </i> - method loops over the itereator object returned by the CURSOR API, extract and store the details in a data frame        \n",
    "- <i> clean_tweet </i> - method to clean the specail characters from the tweet text       \n",
    "- <i> analyze_sentiment </i> - method to perform sentiment analysis"
   ]
  },
  {
   "cell_type": "code",
   "execution_count": 29,
   "metadata": {},
   "outputs": [],
   "source": [
    "class TweetAnalyzer():\n",
    "    \"\"\"\n",
    "    Functionality for analyzing and categorizing content from tweets\n",
    "    \"\"\"\n",
    "    def tweets_to_data_frame(self, tweets):\n",
    "        tweet_data = [[tweet.text, tweet.user.location,tweet.created_at, tweet.favorite_count, tweet.retweet_count] for tweet in tweets]\n",
    "        df = pd.DataFrame(data=tweet_data, columns=[\"tweets\",\"location\", \"date\",\"likes\",\"retweets\"])\n",
    "        return df\n",
    "    \n",
    "    def clean_tweet(self,tweet):\n",
    "        clean_text = ' '.join(re.sub(\"(@[A-Za-z0-9]+)|([^0-9A-Za-z \\t])|(\\w+:\\/\\/\\S+)\",\" \",tweet).split())\n",
    "        return clean_text \n",
    "    \n",
    "    def analyze_sentiment(self, tweet):\n",
    "        analysis=TextBlob(self.clean_tweet(tweet))\n",
    "        #return analysis.sentiment.polarity\n",
    "        \n",
    "        if analysis.sentiment.polarity > 0:\n",
    "            return 1\n",
    "        \n",
    "        elif analysis.sentiment.polarity == 0:\n",
    "            return 0\n",
    "        else:\n",
    "            return -1"
   ]
  },
  {
   "cell_type": "markdown",
   "metadata": {},
   "source": [
    "Main program to put all together"
   ]
  },
  {
   "cell_type": "code",
   "execution_count": 75,
   "metadata": {},
   "outputs": [
    {
     "name": "stdout",
     "output_type": "stream",
     "text": [
      "                                               tweets  \\\n",
      "0   Will going fur-free move the needle on Macy’s ...   \n",
      "1   Macy's will stop selling fur by 2021!  The ban...   \n",
      "2   Macy's goes fur-free. #environmentalism #retai...   \n",
      "3   #Macys and #Bloomingdales ditch #fur https://t...   \n",
      "4   Department store #Macys has announced a decisi...   \n",
      "5   Macy's goes fur-free. #environmentalism #retai...   \n",
      "6   ***New Episode*** Macy's bans the sale of fur ...   \n",
      "7   Major win our sweet fur babies. 🥰❤️💯‼️💋 #Vegan...   \n",
      "8   Huge Victory for our animals! #Macys AND #Bloo...   \n",
      "9   A sign of the times, Macy's bans the sale of a...   \n",
      "10  #Macys to Stop Selling Fur Products\\nHopefully...   \n",
      "11  Macy's becomes biggest US retailer to end fur ...   \n",
      "12  Macy's goes fur-free. #environmentalism #retai...   \n",
      "13  Macy's and Bloomingdale's to go fur free. Do y...   \n",
      "14  #Macys to stop selling fur by end of 2020 fisc...   \n",
      "15  Best news! Thank you @Macys Thank you @Bloomin...   \n",
      "16  Article on my Facebook page! (Link in Bio)\\n\\n...   \n",
      "17  @nytimes @HumaneSociety This is great news, bu...   \n",
      "18  WTF #PETA n #MACYS ur going to protect the fur...   \n",
      "19  American retailer Macy's, Inc has announced th...   \n",
      "20  Macy's announces it will stop selling #fur by ...   \n",
      "21  I've had two \"Kinda surprised that didn't happ...   \n",
      "22  #MAKEaDogsDay yes DOG FUR IS USED IN CLOTHING ...   \n",
      "23  #MACYS KILLS the  FUR HAGS❗️ LONG OVER DUE- de...   \n",
      "24  Macy’s is no longer selling fur products 👏🏻 \\n...   \n",
      "25  Happy 22nd of #OctNoFur!\\n\\n\"... Macy’s Inc. -...   \n",
      "26  #Macys to stop selling fur by end of 2020 fisc...   \n",
      "27  👏🏼👏🏼👏🏼😁• worldanimalnews_ Today, @Macys announ...   \n",
      "28  You should only wear #fur if you're born with ...   \n",
      "29  Thank you #Macys for not selling any more real...   \n",
      "30  #macys and #Bloomingdales say they will stop s...   \n",
      "31  Who cares if #Macys decides to stop selling #f...   \n",
      "32               @ABC #Macys Protecting #animals #fur   \n",
      "33  Macy's becomes biggest US retailer to end fur ...   \n",
      "34  Even more progress, #Macys and #Bloomingdales ...   \n",
      "35  Macy's, Home to $8,000 Mink Jackets, Will Stop...   \n",
      "36  On behalf of chinchillas everywhere, we thank ...   \n",
      "37  YAY!!!!!!!!!!!!!!!!!!!!!!!!!!!!!!!!!!!!!!!!!!!...   \n",
      "\n",
      "                        location                date  likes  retweets  \\\n",
      "0          St. Charles, Illinois 2019-10-26 17:15:02      0         0   \n",
      "1                      Worldwide 2019-10-24 18:30:16      4         2   \n",
      "2                East Coast, USA 2019-10-23 21:30:04      0         0   \n",
      "3                       new york 2019-10-23 18:43:50      0         0   \n",
      "4                  Manhattan, NY 2019-10-23 18:32:01      2         0   \n",
      "5                East Coast, USA 2019-10-23 18:30:03      0         0   \n",
      "6         San Francisco Bay Area 2019-10-23 18:17:57      0         0   \n",
      "7                    Houston, TX 2019-10-23 15:54:34      2         0   \n",
      "8                California, USA 2019-10-23 15:27:45      7         9   \n",
      "9                                2019-10-23 14:55:26      1         0   \n",
      "10            Los Angeles CA USA 2019-10-23 14:48:40      0         0   \n",
      "11                            UK 2019-10-23 14:30:00      0         0   \n",
      "12               East Coast, USA 2019-10-23 14:20:07      0         0   \n",
      "13               Rocky Mount, NC 2019-10-23 03:46:55      1         0   \n",
      "14                       Orlando 2019-10-23 03:00:00      0         1   \n",
      "15         4077th Mash The Swamp 2019-10-23 01:44:11    129        18   \n",
      "16                  Berkeley, CA 2019-10-22 22:49:19      0         0   \n",
      "17              Connecticut, USA 2019-10-22 22:10:34      0         0   \n",
      "18                               2019-10-22 18:15:52      1         1   \n",
      "19       595, Budhwar Peth, Pune 2019-10-22 18:01:12      3         0   \n",
      "20                           USA 2019-10-22 18:00:11      0         0   \n",
      "21                  New York, NY 2019-10-22 17:53:32      2         0   \n",
      "22                 United States 2019-10-22 16:55:37      1         1   \n",
      "23               #FLockWeaR2DIE4 2019-10-22 16:27:30      2         2   \n",
      "24                               2019-10-22 16:17:29      0         0   \n",
      "25                               2019-10-22 16:14:27      0         0   \n",
      "26         Jacksonville, Florida 2019-10-22 15:22:16      1         0   \n",
      "27                    Pittsburgh 2019-10-22 13:43:21      4         0   \n",
      "28                  Midwest, USA 2019-10-22 13:21:53      3         0   \n",
      "29                               2019-10-22 12:21:21      4         0   \n",
      "30                  Portland, ME 2019-10-22 11:37:39      3         0   \n",
      "31                On Sexy Lane 2019-10-22 10:52:18      0         0   \n",
      "32                               2019-10-22 10:43:42      3         0   \n",
      "33  Paris (France) ; London (UK) 2019-10-22 10:12:08      3         3   \n",
      "34                            UK 2019-10-22 09:04:20      4         0   \n",
      "35             Bushwick,Brooklyn 2019-10-22 07:44:36      1         0   \n",
      "36           North Carolina, USA 2019-10-22 01:35:32      7         5   \n",
      "37           Biolley, Costa Rica 2019-10-21 22:09:06      4         0   \n",
      "\n",
      "    sentiment  \n",
      "0           1  \n",
      "1           0  \n",
      "2           1  \n",
      "3           0  \n",
      "4           1  \n",
      "5           1  \n",
      "6           1  \n",
      "7           1  \n",
      "8           1  \n",
      "9           1  \n",
      "10          0  \n",
      "11          0  \n",
      "12          1  \n",
      "13          1  \n",
      "14          0  \n",
      "15          1  \n",
      "16          0  \n",
      "17          1  \n",
      "18         -1  \n",
      "19          0  \n",
      "20          0  \n",
      "21          1  \n",
      "22          0  \n",
      "23         -1  \n",
      "24          0  \n",
      "25          1  \n",
      "26          0  \n",
      "27          0  \n",
      "28          1  \n",
      "29          1  \n",
      "30          0  \n",
      "31          1  \n",
      "32          0  \n",
      "33          0  \n",
      "34          1  \n",
      "35          0  \n",
      "36          0  \n",
      "37          0  \n",
      "(38, 6)\n"
     ]
    }
   ],
   "source": [
    "# Main part of the program\n",
    "if __name__ == '__main__':\n",
    "\n",
    "    tweet_analyzer = TweetAnalyzer()\n",
    "   \n",
    "    auth = TwitterAuthenticator().authenticate_twitter_app()\n",
    "    api = API(auth, wait_on_rate_limit=True)\n",
    "    \n",
    "    # Define the search term and the date_since date as variables\n",
    "    search_words = \"#Macys+Fur -filter:retweets\"\n",
    "    #search_words = \"#Macys+Fur\"\n",
    "    date_since = \"2018-11-16\"\n",
    "    \n",
    "    tweets = Cursor(api.search,\n",
    "              q=search_words,\n",
    "              lang=\"en\",\n",
    "              since=date_since).items(1000)\n",
    "    \n",
    "    # To save the tweets text to the data frame\n",
    "    df = tweet_analyzer.tweets_to_data_frame(tweets)\n",
    "    df['sentiment'] = np.array([tweet_analyzer.analyze_sentiment(tweet) for tweet in df['tweets']])\n",
    "    print(df.head(40))\n",
    "    print(df.shape)\n",
    "    "
   ]
  },
  {
   "cell_type": "markdown",
   "metadata": {},
   "source": [
    "### Visualizing the data\n",
    "\n"
   ]
  },
  {
   "cell_type": "code",
   "execution_count": 111,
   "metadata": {},
   "outputs": [
    {
     "name": "stdout",
     "output_type": "stream",
     "text": [
      "                                               tweets    location        date  \\\n",
      "0   Will going fur-free move the needle on Macy’s ...          IL  2019-10-26   \n",
      "1   Macy's will stop selling fur by 2021!  The ban...   Worldwide  2019-10-24   \n",
      "2   Macy's goes fur-free. #environmentalism #retai...  East Coast  2019-10-23   \n",
      "3   #Macys and #Bloomingdales ditch #fur https://t...          NY  2019-10-23   \n",
      "4   Department store #Macys has announced a decisi...          NY  2019-10-23   \n",
      "5   Macy's goes fur-free. #environmentalism #retai...  East Coast  2019-10-23   \n",
      "6   ***New Episode*** Macy's bans the sale of fur ...          CA  2019-10-23   \n",
      "7   Major win our sweet fur babies. 🥰❤️💯‼️💋 #Vegan...          TX  2019-10-23   \n",
      "8   Huge Victory for our animals! #Macys AND #Bloo...          CA  2019-10-23   \n",
      "9   A sign of the times, Macy's bans the sale of a...          NA  2019-10-23   \n",
      "10  #Macys to Stop Selling Fur Products\\nHopefully...          CA  2019-10-23   \n",
      "11  Macy's becomes biggest US retailer to end fur ...          UK  2019-10-23   \n",
      "12  Macy's goes fur-free. #environmentalism #retai...  East Coast  2019-10-23   \n",
      "13  Macy's and Bloomingdale's to go fur free. Do y...          NC  2019-10-23   \n",
      "14  #Macys to stop selling fur by end of 2020 fisc...          FL  2019-10-23   \n",
      "15  Best news! Thank you @Macys Thank you @Bloomin...          NA  2019-10-23   \n",
      "16  Article on my Facebook page! (Link in Bio)\\n\\n...          CA  2019-10-22   \n",
      "17  @nytimes @HumaneSociety This is great news, bu...          CT  2019-10-22   \n",
      "18  WTF #PETA n #MACYS ur going to protect the fur...          NA  2019-10-22   \n",
      "19  American retailer Macy's, Inc has announced th...       India  2019-10-22   \n",
      "20  Macy's announces it will stop selling #fur by ...         USA  2019-10-22   \n",
      "21  I've had two \"Kinda surprised that didn't happ...          NY  2019-10-22   \n",
      "22  #MAKEaDogsDay yes DOG FUR IS USED IN CLOTHING ...          NA  2019-10-22   \n",
      "23  #MACYS KILLS the  FUR HAGS❗️ LONG OVER DUE- de...          NA  2019-10-22   \n",
      "24  Macy’s is no longer selling fur products 👏🏻 \\n...          NA  2019-10-22   \n",
      "25  Happy 22nd of #OctNoFur!\\n\\n\"... Macy’s Inc. -...          NA  2019-10-22   \n",
      "26  #Macys to stop selling fur by end of 2020 fisc...          FL  2019-10-22   \n",
      "27  👏🏼👏🏼👏🏼😁• worldanimalnews_ Today, @Macys announ...          PA  2019-10-22   \n",
      "28  You should only wear #fur if you're born with ...     Midwest  2019-10-22   \n",
      "29  Thank you #Macys for not selling any more real...          NA  2019-10-22   \n",
      "30  #macys and #Bloomingdales say they will stop s...          ME  2019-10-22   \n",
      "31  Who cares if #Macys decides to stop selling #f...          NA  2019-10-22   \n",
      "32               @ABC #Macys Protecting #animals #fur          NA  2019-10-22   \n",
      "33  Macy's becomes biggest US retailer to end fur ...          UK  2019-10-22   \n",
      "34  Even more progress, #Macys and #Bloomingdales ...          UK  2019-10-22   \n",
      "35  Macy's, Home to $8,000 Mink Jackets, Will Stop...          NY  2019-10-22   \n",
      "36  On behalf of chinchillas everywhere, we thank ...          CA  2019-10-22   \n",
      "37  YAY!!!!!!!!!!!!!!!!!!!!!!!!!!!!!!!!!!!!!!!!!!!...          CA  2019-10-21   \n",
      "\n",
      "    likes  retweets  sentiment  \n",
      "0       0         0          1  \n",
      "1       4         2          0  \n",
      "2       0         0          1  \n",
      "3       0         0          0  \n",
      "4       2         0          1  \n",
      "5       0         0          1  \n",
      "6       0         0          1  \n",
      "7       2         0          1  \n",
      "8       7         9          1  \n",
      "9       1         0          1  \n",
      "10      0         0          0  \n",
      "11      0         0          0  \n",
      "12      0         0          1  \n",
      "13      1         0          1  \n",
      "14      0         1          0  \n",
      "15    129        18          1  \n",
      "16      0         0          0  \n",
      "17      0         0          1  \n",
      "18      1         1         -1  \n",
      "19      3         0          0  \n",
      "20      0         0          0  \n",
      "21      2         0          1  \n",
      "22      1         1          0  \n",
      "23      2         2         -1  \n",
      "24      0         0          0  \n",
      "25      0         0          1  \n",
      "26      1         0          0  \n",
      "27      4         0          0  \n",
      "28      3         0          1  \n",
      "29      4         0          1  \n",
      "30      3         0          0  \n",
      "31      0         0          1  \n",
      "32      3         0          0  \n",
      "33      3         3          0  \n",
      "34      4         0          1  \n",
      "35      1         0          0  \n",
      "36      7         5          0  \n",
      "37      4         0          0  \n"
     ]
    }
   ],
   "source": [
    "#print(df.location)\n",
    "\n",
    "for index, place in df.location.iteritems():\n",
    "    if re.search(\"NY|new york|Brooklyn\", place, re.IGNORECASE):\n",
    "        df.location.at[index] = 'NY'\n",
    "    elif re.search(\"CA|California|Bay Area\", place, re.IGNORECASE):\n",
    "        df.location.at[index] = 'CA'\n",
    "    elif re.search(\"UK\", place, re.IGNORECASE):\n",
    "        df.location.at[index] = 'UK'\n",
    "    elif re.search(\"Florida|Orlando\", place, re.IGNORECASE):\n",
    "        df.location.at[index] = 'FL'\n",
    "    elif re.search(\"NC\", place, re.IGNORECASE):\n",
    "        df.location.at[index] = 'NC'\n",
    "    elif re.search(\"East Coast\", place, re.IGNORECASE):\n",
    "        df.location.at[index] = 'East Coast'\n",
    "    elif re.search(\"Pune\", place, re.IGNORECASE):\n",
    "        df.location.at[index] = 'India'\n",
    "    elif re.search(\"TX\", place, re.IGNORECASE):\n",
    "        df.location.at[index] = 'TX'\n",
    "    elif re.search(\"Pittsburgh|PA\", place, re.IGNORECASE):\n",
    "        df.location.at[index] = 'PA'\n",
    "    elif re.search(\"Illinois\", place, re.IGNORECASE):\n",
    "        df.location.at[index] = 'IL'\n",
    "    elif re.search(\"Connecticut\", place, re.IGNORECASE):\n",
    "        df.location.at[index] = 'CT'\n",
    "    elif re.search(\"Portland\", place, re.IGNORECASE):\n",
    "        df.location.at[index] = 'ME'\n",
    "    elif re.search(\"Midwest\", place, re.IGNORECASE):\n",
    "        df.location.at[index] = 'Midwest'\n",
    "    elif not place:\n",
    "        df.location.at[index] = 'NA'\n",
    "    elif re.search(\"\\W|\\d\",place):\n",
    "        df.location.at[index] = 'NA'\n",
    "        \n",
    "        \n",
    "#df['date']=df.date.dt.date       \n",
    "\n",
    "    \n",
    "#print(df.location)\n",
    "print(df.head(40))"
   ]
  },
  {
   "cell_type": "code",
   "execution_count": 100,
   "metadata": {},
   "outputs": [
    {
     "data": {
      "text/plain": [
       "Text(0,0.5,'number of tweets')"
      ]
     },
     "execution_count": 100,
     "metadata": {},
     "output_type": "execute_result"
    },
    {
     "data": {
      "image/png": "[encoded data removed]",
      "text/plain": [
       "<Figure size 720x432 with 1 Axes>"
      ]
     },
     "metadata": {},
     "output_type": "display_data"
    }
   ],
   "source": [
    "df.groupby('date') ['tweets'].count().plot(figsize=(10,6))\n",
    "plt.title(\"Number of Tweets after Announcement on Macy's Fur Ban\")\n",
    "plt.ylabel(\"number of tweets\")"
   ]
  },
  {
   "cell_type": "code",
   "execution_count": 112,
   "metadata": {},
   "outputs": [
    {
     "data": {
      "text/plain": [
       "Text(0,0.5,'number of tweets')"
      ]
     },
     "execution_count": 112,
     "metadata": {},
     "output_type": "execute_result"
    },
    {
     "data": {
      "image/png": "[encoded data removed]",
      "text/plain": [
       "<Figure size 720x432 with 1 Axes>"
      ]
     },
     "metadata": {},
     "output_type": "display_data"
    }
   ],
   "source": [
    "df.groupby('location') ['tweets'].count().plot(figsize=(10,6))\n",
    "plt.title(\"Number of Tweets by Location on Macy's Fur Ban\")\n",
    "plt.ylabel(\"number of tweets\")\n",
    "#plt.xticks(df['location'])"
   ]
  },
  {
   "cell_type": "code",
   "execution_count": 146,
   "metadata": {},
   "outputs": [
    {
     "data": {
      "text/plain": [
       "Text(0,0.5,'value')"
      ]
     },
     "execution_count": 146,
     "metadata": {},
     "output_type": "execute_result"
    },
    {
     "data": {
      "image/png": "[encoded data removed]",
      "text/plain": [
       "<Figure size 720x432 with 1 Axes>"
      ]
     },
     "metadata": {},
     "output_type": "display_data"
    }
   ],
   "source": [
    "\n",
    "df.groupby('sentiment') ['tweets'].count().plot(kind='bar',figsize=(10,6))\n",
    "plt.title(\"Sentiment Analysis on Macy's Fur Ban\")\n",
    "plt.ylabel(\"value\")\n"
   ]
  },
  {
   "cell_type": "code",
   "execution_count": 138,
   "metadata": {},
   "outputs": [
    {
     "data": {
      "text/plain": [
       "pandas.core.series.Series"
      ]
     },
     "execution_count": 138,
     "metadata": {},
     "output_type": "execute_result"
    }
   ],
   "source": [
    "type(new_df)"
   ]
  }
 ],
 "metadata": {
  "kernelspec": {
   "display_name": "Python 3",
   "language": "python",
   "name": "python3"
  },
  "language_info": {
   "codemirror_mode": {
    "name": "ipython",
    "version": 3
   },
   "file_extension": ".py",
   "mimetype": "text/x-python",
   "name": "python",
   "nbconvert_exporter": "python",
   "pygments_lexer": "ipython3",
   "version": "3.6.5"
  }
 },
 "nbformat": 4,
 "nbformat_minor": 2
}
